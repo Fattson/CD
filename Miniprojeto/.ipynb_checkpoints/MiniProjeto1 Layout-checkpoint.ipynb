{
 "cells": [
  {
   "cell_type": "markdown",
   "metadata": {},
   "source": [
    "___\n",
    "# MINIPROJETO 1"
   ]
  },
  {
   "cell_type": "markdown",
   "metadata": {},
   "source": [
    "## <font color='red'>Victor Hugo Leal Vieira da Silva</font>\n",
    "___"
   ]
  },
  {
   "cell_type": "markdown",
   "metadata": {},
   "source": [
    "## <font color='blue'>Projeção populacional para aposentados</font>"
   ]
  },
  {
   "cell_type": "markdown",
   "metadata": {},
   "source": [
    "___\n",
    "### Itens 1 a 3 - Resolução:"
   ]
  },
  {
   "cell_type": "code",
   "execution_count": 104,
   "metadata": {
    "collapsed": false
   },
   "outputs": [
    {
     "name": "stdout",
     "output_type": "stream",
     "text": [
      "Esperamos trabalhar no diretório\n",
      "C:\\Users\\VictorHugo\\Desktop\\EveryThing\\Victor\\Insper\\2º-Semestre\\Ciência dos Dados\\Miniprojeto\n"
     ]
    }
   ],
   "source": [
    "%matplotlib inline\n",
    "import pandas as pd\n",
    "import matplotlib.pyplot as plt\n",
    "import numpy as np\n",
    "import os\n",
    "from scipy import stats\n",
    "import matplotlib.patches as mpatches\n",
    "\n",
    "print('Esperamos trabalhar no diretório')\n",
    "print(os.getcwd())"
   ]
  },
  {
   "cell_type": "markdown",
   "metadata": {},
   "source": [
    "### O miniprojeto abordará 'Projeções Populacionais entre 2011 e 2030'. Como variável foi escolhida as idades maiores de 60 anos, divididas em 4 ( quatro ) faixas etárias.\n"
   ]
  },
  {
   "cell_type": "code",
   "execution_count": 105,
   "metadata": {
    "collapsed": false
   },
   "outputs": [],
   "source": [
    "dados = pd.read_table('tb_dados.txt', sep=';')"
   ]
  },
  {
   "cell_type": "code",
   "execution_count": 106,
   "metadata": {
    "collapsed": false
   },
   "outputs": [],
   "source": [
    "d0to4 = pd.crosstab(dados.FH1, dados.ano)"
   ]
  },
  {
   "cell_type": "code",
   "execution_count": 139,
   "metadata": {
    "collapsed": false
   },
   "outputs": [
    {
     "data": {
      "image/png": "[encoded data removed]",
      "text/plain": [
       "<matplotlib.figure.Figure at 0x1be5b6e57b8>"
      ]
     },
     "metadata": {},
     "output_type": "display_data"
    }
   ],
   "source": [
    "FH13 = dados[dados.FH13 > 100000]\n",
    "FH14 = dados[dados.FH14 > 100000]\n",
    "FH15 = dados[dados.FH15 > 100000]\n",
    "FH16 = dados[dados.FH16 > 100000]\n",
    "\n",
    "gold_patch = mpatches.Patch(color='gold', label='75 anos ou mais')\n",
    "red_patch = mpatches.Patch(color='red', label='70 a 74 anos')\n",
    "green_patch = mpatches.Patch(color='green', label='60 a 64 anos')\n",
    "blue_patch = mpatches.Patch(color='blue', label='65 a 69 anos')\n",
    "plt.legend(bbox_to_anchor=(1.5, 1),handles= [green_patch, blue_patch, red_patch, gold_patch])\n",
    "\n",
    "plt.plot(FH13.ano, FH13.FH13, 'go')\n",
    "plt.plot(FH14.ano, FH14.FH14, 'bo')\n",
    "plt.plot(FH15.ano, FH15.FH15, 'ro')\n",
    "plt.plot(FH16.ano, FH16.FH16, 'o', color = 'gold')\n",
    "plt.axis([2010,2031,90000,350000])\n",
    "plt.title(\"Projeções populacionais\")\n",
    "plt.ylabel(\"População\")\n",
    "plt.xlabel(\"Ano\")\n",
    "plt.show()"
   ]
  },
  {
   "cell_type": "markdown",
   "metadata": {
    "collapsed": true
   },
   "source": [
    "___\n",
    "### Itens 4 a 6 - Resolução:"
   ]
  },
  {
   "cell_type": "markdown",
   "metadata": {
    "collapsed": true
   },
   "source": [
    "#### Observando a distribuição das gráficos, podemos observar que que segue dois modelos probabilisticos. Os gráficos verde e azul seguem o modelo linear positivo, enquando os gráficos vermelho e gold seguem o modelo exponencial, ambos com assimetria negativa. Seguem abaixo imagens de modelo linear e exponencial que poderiam se assimilar à dispersão da variável escolhida. Entretanto os valores dos eixos são meramentes ilustrativos, não correspondendo ao modelo escolhido em questão.\n"
   ]
  },
  {
   "cell_type": "markdown",
   "metadata": {
    "collapsed": true
   },
   "source": [
    "<img src=\"Linear_exemplo3.png\" width=\"400\">\n",
    "<img src=\"Exp_exemplo2.png\" width=\"400\">"
   ]
  },
  {
   "cell_type": "markdown",
   "metadata": {
    "collapsed": true
   },
   "source": [
    "___\n",
    "### Itens 7 a 9 - Resolução:"
   ]
  },
  {
   "cell_type": "code",
   "execution_count": null,
   "metadata": {
    "collapsed": true
   },
   "outputs": [],
   "source": []
  },
  {
   "cell_type": "code",
   "execution_count": null,
   "metadata": {
    "collapsed": true
   },
   "outputs": [],
   "source": []
  },
  {
   "cell_type": "markdown",
   "metadata": {},
   "source": [
    "___\n",
    "### Itens 10 e 11 - Resolução:"
   ]
  },
  {
   "cell_type": "code",
   "execution_count": null,
   "metadata": {
    "collapsed": true
   },
   "outputs": [],
   "source": []
  },
  {
   "cell_type": "code",
   "execution_count": null,
   "metadata": {
    "collapsed": true
   },
   "outputs": [],
   "source": []
  }
 ],
 "metadata": {
  "anaconda-cloud": {},
  "kernelspec": {
   "display_name": "Python 3",
   "language": "python",
   "name": "python3"
  },
  "language_info": {
   "codemirror_mode": {
    "name": "ipython",
    "version": 3
   },
   "file_extension": ".py",
   "mimetype": "text/x-python",
   "name": "python",
   "nbconvert_exporter": "python",
   "pygments_lexer": "ipython3",
   "version": "3.5.2"
  }
 },
 "nbformat": 4,
 "nbformat_minor": 0
}
