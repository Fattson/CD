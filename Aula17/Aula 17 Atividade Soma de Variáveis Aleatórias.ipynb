{
 "cells": [
  {
   "cell_type": "markdown",
   "metadata": {},
   "source": [
    "___\n",
    "# Atividade: Soma de variáveis aleatórias \n",
    "\n",
    "### <font color=\"red\">Victor Hugo Leal Vieira da Silva e Eduardo Tirta</font>\n",
    "___\n",
    "\n",
    "## Aula 17\n",
    "\n",
    "**Preparo Prévio:**\n",
    "1. Seção 5.1 – págs 137 a 140: aborda como fazer uma distribuição de probabilidade conjunta entre duas variáveis aleatórias X e Y e define função de probabilidade conjunta.\n",
    "2. Seção 5.2 – págs 146 a 149; págs 156 e 157 (Exemplo 5.12) e págs 158 a 162 (Exemplo 5.13): aborda propriedades de esperança e variância em soma de variáveis aleatórias (X+Y). \n",
    "\n",
    "**Hoje:**\n",
    "1. Descrever as propriedades de distribuição conjunta entre duas variáveis aleatórias discretas.\n",
    "2. Compreender correlação entre variáveis aleatórias.\n",
    "3. Descrever as propriedades de esperança e variância para soma de variáveis aleatórias (discretas e contínuas).\n",
    "\n",
    "\n",
    "**Próxima aula:**\n",
    "1.\tLeitura prévia necessária: Magalhães e Lima (7ª. Edição): Seção 7.3 (págs 234 a 240).\n",
    "___"
   ]
  },
  {
   "cell_type": "code",
   "execution_count": null,
   "metadata": {
    "collapsed": true
   },
   "outputs": [],
   "source": []
  },
  {
   "cell_type": "code",
   "execution_count": 2,
   "metadata": {
    "collapsed": false
   },
   "outputs": [],
   "source": [
    "%matplotlib inline\n",
    "\n",
    "import os\n",
    "import matplotlib.pyplot as plt\n",
    "import pandas as pd\n",
    "import numpy as np\n",
    "from scipy import stats"
   ]
  },
  {
   "cell_type": "markdown",
   "metadata": {},
   "source": [
    "___\n",
    "## <font color='blue'>Exercício 1 - Exemplo 3 da Aula 17 </font>\n",
    "\n",
    "Num determinado momento em um certo país, a taxa de juros ($X$) pode variar 0,25 pontos percentuais (pp), para cima ou para baixo, ou manter-se constante. \n",
    "Já a taxa de câmbio ($Y$) pode variar para mais ou para menos em 1 pp, ou manter-se constante.\n",
    "A tabela seguinte reflete as distribuições marginais e conjunta dessas duas taxas representadas, aqui, por $X$ e $Y$. \n",
    "\n",
    "![Tabela](XeY.png)\n",
    "\n",
    "Um investidor aplica a mesma quantia num fundo que acompanha a variação da taxa de juros ($X$) e num fundo que acompanha a variação cambial ($Y$). Ao final do dia ele resgatará seu investimento.\n",
    "1. Encontre a $E(X)$, $Var(X)$, $E(Y)$, $Var(Y)$, $Cov(X,Y)$ e $Corr(X,Y)$.\n",
    "2. Construa a distribuição de probabilidades do ganho (em variação %) desse investidor, ou seja, encontre todos os valores de $G=0.5*X+0.5*Y$, sendo $G$ o ganho do investidor aplicando metade do dinheiro em $X$ e metade do dinheiro em $Y$. \n",
    "3. Calcule esperança e variância de $G$ utilizando a distribuição de probabilidade, ou seja, $E(G)$ e $Var(G)$.\n",
    "4. Calcule esperança e variância de $G$ utilizando propriedades de esperança e variância da soma de variáveis aleatórias.\n"
   ]
  },
  {
   "cell_type": "code",
   "execution_count": 3,
   "metadata": {
    "collapsed": false
   },
   "outputs": [
    {
     "name": "stdout",
     "output_type": "stream",
     "text": [
      "[[0.05, 0.07, 0.26], [0.075, 0.21, 0.12], [0.125, 0.07, 0.02]]\n"
     ]
    }
   ],
   "source": [
    "#Valores da tabela\n",
    "y=[-1,0,1] #colunas\n",
    "x=[-0.25,0,0.25] #linhas\n",
    "probXY=[[[] for i in range(3)] for i in range(3)]\n",
    "pxy=[0.05,0.07,0.26,0.075,0.21,0.12,0.125,0.07,0.02]\n",
    "k=0\n",
    "for i in range(3):\n",
    "    for j in range(3):\n",
    "        probXY[i][j]=pxy[k]\n",
    "        k+=1\n",
    "print(probXY)"
   ]
  },
  {
   "cell_type": "code",
   "execution_count": 4,
   "metadata": {
    "collapsed": false
   },
   "outputs": [
    {
     "name": "stdout",
     "output_type": "stream",
     "text": [
      "Probabilidade de X= -0.25  é igual a  0.38\n",
      "Probabilidade de X= 0  é igual a  0.40499999999999997\n",
      "Probabilidade de X= 0.25  é igual a  0.215\n",
      "Esperança de X= -0.04125\n",
      "Variância de X= 0.0354859375\n"
     ]
    }
   ],
   "source": [
    "#item 1 \n",
    "#Distribuição de X\n",
    "probX=[0,0,0]\n",
    "for i in range(3):\n",
    "    for j in range(3):\n",
    "        probX[i]+=probXY[i][j]\n",
    "for i in range(3):\n",
    "    print(\"Probabilidade de X=\",x[i],\" é igual a \", probX[i])\n",
    "\n",
    "espX=0\n",
    "varX=0\n",
    "for i in range(3):\n",
    "    espX+=x[i]*probX[i]\n",
    "for i in range(3):\n",
    "    varX+=(x[i]-espX)**2*probX[i]\n",
    "print(\"Esperança de X=\",espX)\n",
    "print(\"Variância de X=\",varX)\n"
   ]
  },
  {
   "cell_type": "code",
   "execution_count": 5,
   "metadata": {
    "collapsed": false
   },
   "outputs": [
    {
     "name": "stdout",
     "output_type": "stream",
     "text": [
      "Probabilidade de Y= -1  é igual a  0.25\n",
      "Probabilidade de Y= 0  é igual a  0.35000000000000003\n",
      "Probabilidade de Y= 1  é igual a  0.4\n",
      "Esperança de Y= 0.15000000000000002\n",
      "Variância de Y= 0.6275\n"
     ]
    }
   ],
   "source": [
    "#item 1 \n",
    "#Distribuição de Y\n",
    "probY=[0,0,0]\n",
    "for i in range(3):\n",
    "    for j in range(3):\n",
    "        probY[j]+=probXY[i][j]\n",
    "for i in range(3):\n",
    "    print(\"Probabilidade de Y=\",y[i],\" é igual a \", probY[i])\n",
    "\n",
    "espY=0\n",
    "varY=0\n",
    "for i in range(3):\n",
    "    espY+=y[i]*probY[i]\n",
    "for i in range(3):\n",
    "    varY+=(y[i]-espY)**2*probY[i]\n",
    "print(\"Esperança de Y=\",espY)\n",
    "print(\"Variância de Y=\",varY)\n"
   ]
  },
  {
   "cell_type": "code",
   "execution_count": 6,
   "metadata": {
    "collapsed": false
   },
   "outputs": [
    {
     "name": "stdout",
     "output_type": "stream",
     "text": [
      "Covariância entre X e Y= -0.07256249999999999\n",
      "Correlação entre X e Y= -0.4862697238590869\n"
     ]
    }
   ],
   "source": [
    "#item 1\n",
    "#Covariância e Correlação\n",
    "cov=0\n",
    "for i in range(3):\n",
    "    for j in range(3):\n",
    "        cov+=(x[i]-espX)*(y[j]-espY)*probXY[i][j]\n",
    "\n",
    "corr=cov/(varX*varY)**(0.5)\n",
    "print(\"Covariância entre X e Y=\", cov)\n",
    "print(\"Correlação entre X e Y=\", corr)\n"
   ]
  },
  {
   "cell_type": "code",
   "execution_count": 7,
   "metadata": {
    "collapsed": false
   },
   "outputs": [
    {
     "name": "stdout",
     "output_type": "stream",
     "text": [
      "Probabilidade de G= -0.625  é igual a  0.05\n",
      "Probabilidade de G= -0.125  é igual a  0.07\n",
      "Probabilidade de G= 0.375  é igual a  0.26\n",
      "Probabilidade de G= -0.5  é igual a  0.075\n",
      "Probabilidade de G= 0.0  é igual a  0.21\n",
      "Probabilidade de G= 0.5  é igual a  0.12\n",
      "Probabilidade de G= -0.375  é igual a  0.125\n",
      "Probabilidade de G= 0.125  é igual a  0.07\n",
      "Probabilidade de G= 0.625  é igual a  0.02\n"
     ]
    }
   ],
   "source": [
    "#item 2\n",
    "#Distribuição do G=0.5*X +0.5*Y\n",
    "g=[]\n",
    "probG=[]\n",
    "for i in range(3):\n",
    "    for j in range(3):\n",
    "        a = 0.5*x[i]+0.5*y[j]\n",
    "        if a in g:\n",
    "            probG[g.index(a)] += probX[i][j]\n",
    "        else:\n",
    "            g.append(a)         \n",
    "            probG.append(probXY[i][j])\n",
    "\n",
    "for i in range(len(g)):\n",
    "    print(\"Probabilidade de G=\",g[i],\" é igual a \", probG[i])\n"
   ]
  },
  {
   "cell_type": "code",
   "execution_count": 8,
   "metadata": {
    "collapsed": false
   },
   "outputs": [
    {
     "name": "stdout",
     "output_type": "stream",
     "text": [
      "Esperança e variância de G usando distribuição de probabilidade de G:\n",
      "Esperança de G= 0.05437500000000001\n",
      "Variância de G= 0.12946523437500002\n"
     ]
    }
   ],
   "source": [
    "#item 3\n",
    "#Esperança e variância de G\n",
    "espG=0\n",
    "varG=0\n",
    "for i in range(len(g)):\n",
    "    espG+=g[i]*probG[i]\n",
    "for i in range(len(g)):\n",
    "    varG+=(g[i]-espG)**2*probG[i]\n",
    "\n",
    "print(\"Esperança e variância de G usando distribuição de probabilidade de G:\")\n",
    "print(\"Esperança de G=\",espG)\n",
    "print(\"Variância de G=\",varG)"
   ]
  },
  {
   "cell_type": "code",
   "execution_count": 9,
   "metadata": {
    "collapsed": false
   },
   "outputs": [
    {
     "name": "stdout",
     "output_type": "stream",
     "text": [
      "Esperança e variância de G usando propriedades:\n",
      "Esperança de G= 0.05437500000000001\n",
      "Variância de G= 0.129465234375\n"
     ]
    }
   ],
   "source": [
    "#item 4\n",
    "#Esperança e variância de G usando propriedades de soma de variáveis aleatórias\n",
    "\n",
    "#G=0.5X + 0.5Y\n",
    "#G=0.5*(X+Y)\n",
    "\n",
    "espGp = 0.5*(espX+espY)\n",
    "varGp = 0.5**2*(varX+varY+2*cov)\n",
    "\n",
    "print(\"Esperança e variância de G usando propriedades:\")\n",
    "print(\"Esperança de G=\",espGp)\n",
    "print(\"Variância de G=\",varGp)\n"
   ]
  },
  {
   "cell_type": "markdown",
   "metadata": {},
   "source": [
    "<img src=\"Exercicio1.jpeg\">"
   ]
  },
  {
   "cell_type": "markdown",
   "metadata": {
    "collapsed": true
   },
   "source": [
    "___\n",
    "## <font color='blue'>Exercício 2 - Soma de normais correlacionadas</font>\n",
    "\n",
    "Um pacote com mil peças de resistor de carbono 1/8w tem o preço distribuído como uma normal com média 21 reais e desvio padrão de 2 reais, ou seja, $X$~$N(21;4)$.\n",
    "\n",
    "Já jumpers/fios macho-fêmea com 40 unidades de 20 cm tem o preço distribuído como uma normal com média 18,90 reais e desvio padrão de 1,50 reais, ou seja, $Y$~$N(18,90;2,25)$.\n",
    "\n",
    "Assuma que a correlação entre esses dois preços seja de 0,85.\n",
    "\n",
    "1. Simule $n=100$, $n=1.000$ e $n=10.000$ de cada variáveis aleatória respeitando a correlação entre elas. Para tanto, consulte o comando `np.random.multivariate_normal(mean, cov, n)`. \n",
    "2. Se você vai passear na Santa Efigênia para comprar um pacote de cada um, calcule a esperança e a variância do gasto $G=X+Y$ com a compra de uma pacotinho de resistores e um jumper nas especificações acima descritos. \n",
    "3. Calcule esperança e variância de $G$ utilizando propriedades de esperança e variância da soma de variáveis aleatórias.\n",
    "4. Construa a distribuição do gasto e verifique se o gasto se assemelha a distribuição normal.\n",
    "5. Repita assumindo correlação igual a zero entre X e Y.\n"
   ]
  },
  {
   "cell_type": "markdown",
   "metadata": {},
   "source": [
    "### Para correlação XY = 0.85"
   ]
  },
  {
   "cell_type": "code",
   "execution_count": 30,
   "metadata": {
    "collapsed": false
   },
   "outputs": [],
   "source": [
    "#Informações do enunciado\n",
    "muX = 21\n",
    "varX = 4\n",
    "muY = 18.90\n",
    "varY = 2.25\n",
    "corXY = 0.85\n",
    "covXY = corXY*(varX*varY)**(0.5)\n",
    "mean = [muX, muY]\n",
    "cov = [[varX, covXY], [covXY, varY]]  # diagonal covariance"
   ]
  },
  {
   "cell_type": "code",
   "execution_count": 11,
   "metadata": {
    "collapsed": false
   },
   "outputs": [
    {
     "name": "stdout",
     "output_type": "stream",
     "text": [
      "Matriz de covariâncias a partir dos n (100) valores correlacionados:\n",
      "[[ 4.27813193  2.76548185]\n",
      " [ 2.76548185  2.38175369]]\n",
      "Matriz de covariâncias a partir dos n (1000) valores correlacionados:\n",
      "[[ 3.81396875  2.45370544]\n",
      " [ 2.45370544  2.21204508]]\n",
      "Matriz de covariâncias a partir dos n (10000) valores correlacionados:\n",
      "[[ 3.92511844  2.51955113]\n",
      " [ 2.51955113  2.23834838]]\n"
     ]
    }
   ],
   "source": [
    "#item 1\n",
    "n=100\n",
    "for i in range(0,3):\n",
    "    G = 0\n",
    "    x, y = np.random.multivariate_normal(mean, cov, n).T\n",
    "    print(\"Matriz de covariâncias a partir dos n ({0}) valores correlacionados:\".format(n))\n",
    "    print(np.cov(x,y))\n",
    "    n*=10"
   ]
  },
  {
   "cell_type": "code",
   "execution_count": 12,
   "metadata": {
    "collapsed": false
   },
   "outputs": [
    {
     "name": "stdout",
     "output_type": "stream",
     "text": [
      "Média do Gasto com n= 100 : 40.01546563258284\n",
      "Variância para n= 100: 7.995171229358167 \n",
      "\n",
      "Média do Gasto com n= 1000 : 39.82941719078883\n",
      "Variância para n= 1000: 11.209084281489588 \n",
      "\n",
      "Média do Gasto com n= 10000 : 39.88858694582507\n",
      "Variância para n= 10000: 11.052573500662566 \n",
      "\n"
     ]
    }
   ],
   "source": [
    "#item 2\n",
    "n=100\n",
    "\n",
    "ListMeanG = list()\n",
    "ListVarG = list()\n",
    "ListaGzao = list()\n",
    "\n",
    "for i in range(0,3):\n",
    "    listG = list()\n",
    "    x, y = np.random.multivariate_normal(mean, cov, n).T\n",
    "    for i in range(len(x)): # Para média:\n",
    "        WTF = x[i] + y[i]\n",
    "        listG.append(WTF)\n",
    "    ListaGzao.append(listG)\n",
    "    MeanG = np.mean(listG)\n",
    "    ListMeanG.append(MeanG)\n",
    "    print(\"Média do Gasto com n= {1} : {0}\".format(MeanG, n))\n",
    "    VarG = 0\n",
    "    for i in range(len(x)): # Para variância:\n",
    "        VarG += ((listG[i] - MeanG)**2)\n",
    "    ListVarG.append(VarG/n)\n",
    "    print (\"Variância para n= {0}: {1} \\n\".format(n,VarG/n))\n",
    "    n*=10"
   ]
  },
  {
   "cell_type": "code",
   "execution_count": 13,
   "metadata": {
    "collapsed": false
   },
   "outputs": [
    {
     "name": "stdout",
     "output_type": "stream",
     "text": [
      "Média: 39.9\n",
      "Variância: 11.35\n"
     ]
    }
   ],
   "source": [
    "#item 3\n",
    "# Media de soma é a soma das médias\n",
    "# Variancia da soma é soma das variâncias + 2*correlação\n",
    "MeanG = muX + muY\n",
    "VarG = varX + varY + 2*covXY\n",
    "print(\"Média: {0}\".format(MeanG))\n",
    "print(\"Variância: {0}\".format(VarG))"
   ]
  },
  {
   "cell_type": "code",
   "execution_count": 14,
   "metadata": {
    "collapsed": false
   },
   "outputs": [
    {
     "data": {
      "image/png": "[encoded data removed]",
      "text/plain": [
       "<matplotlib.figure.Figure at 0x1eaee49fa90>"
      ]
     },
     "metadata": {},
     "output_type": "display_data"
    }
   ],
   "source": [
    "#item 4 parte 1\n",
    "t = np.linspace(20,60,400)\n",
    "plt.hist(ListaGzao[0],bins=40, normed = 1, color = \"gold\")\n",
    "plt.grid(True)\n",
    "plt.axis([min(ListaGzao[0]),max(ListaGzao[0]),0.00,0.23])\n",
    "plt.title(\"Para N=100\")\n",
    "plt.xlabel(\"Gasto\")\n",
    "plt.ylabel(\"Idas à Santa Efigênia\")\n",
    "plt.plot(t,stats.norm.pdf(t,loc=ListMeanG[0],scale=(ListVarG[0]**(1/2))), color = \"red\")\n",
    "plt.show()"
   ]
  },
  {
   "cell_type": "code",
   "execution_count": 15,
   "metadata": {
    "collapsed": false
   },
   "outputs": [
    {
     "data": {
      "image/png": "[encoded data removed]",
      "text/plain": [
       "<matplotlib.figure.Figure at 0x1eaee49f9e8>"
      ]
     },
     "metadata": {},
     "output_type": "display_data"
    }
   ],
   "source": [
    "#item 4 parte 2\n",
    "t = np.linspace(20,60,1000)\n",
    "plt.hist(ListaGzao[1],bins=30, normed = 1, color = \"lightgreen\")\n",
    "plt.grid(True)\n",
    "plt.axis([min(ListaGzao[1]),max(ListaGzao[1]),0.00,0.14])\n",
    "plt.title(\"Para N=1000\")\n",
    "plt.xlabel(\"Gasto\")\n",
    "plt.ylabel(\"Idas à Santa Efigênia\")\n",
    "plt.plot(t,stats.norm.pdf(t,loc=ListMeanG[1],scale=(ListVarG[1]**(1/2))), color = \"red\")\n",
    "plt.show()"
   ]
  },
  {
   "cell_type": "code",
   "execution_count": 16,
   "metadata": {
    "collapsed": false,
    "scrolled": true
   },
   "outputs": [
    {
     "data": {
      "image/png": "[encoded data removed]",
      "text/plain": [
       "<matplotlib.figure.Figure at 0x1eaee49f518>"
      ]
     },
     "metadata": {},
     "output_type": "display_data"
    }
   ],
   "source": [
    "#item 4 parte 3\n",
    "t = np.linspace(20,60,1000)\n",
    "plt.hist(listG,bins=30, normed = 1, color = \"lightblue\")\n",
    "plt.grid(True)\n",
    "plt.axis([min(listG),max(listG),0.00,0.12])\n",
    "plt.title(\"Para N=10000\")\n",
    "plt.xlabel(\"Gasto\")\n",
    "plt.ylabel(\"Idas à Santa Efigênia\")\n",
    "plt.plot(t,stats.norm.pdf(t,loc=ListMeanG[2],scale=(ListVarG[2]**(1/2))), color = \"red\")\n",
    "plt.show()"
   ]
  },
  {
   "cell_type": "markdown",
   "metadata": {},
   "source": [
    "### Para correlação XY= 0 "
   ]
  },
  {
   "cell_type": "code",
   "execution_count": 17,
   "metadata": {
    "collapsed": true
   },
   "outputs": [],
   "source": [
    "#Informações do enunciado\n",
    "muX = 21\n",
    "varX = 4\n",
    "muY = 18.90\n",
    "varY = 2.25\n",
    "corXY = 0\n",
    "covXY = corXY*(varX*varY)**(0.5)\n",
    "mean = [muX, muY]\n",
    "cov = [[varX, covXY], [covXY, varY]]  # diagonal covariance"
   ]
  },
  {
   "cell_type": "code",
   "execution_count": 18,
   "metadata": {
    "collapsed": false
   },
   "outputs": [
    {
     "name": "stdout",
     "output_type": "stream",
     "text": [
      "Matriz de covariâncias a partir dos n (100) valores correlacionados:\n",
      "[[ 3.23017884  0.5451697 ]\n",
      " [ 0.5451697   2.45616682]]\n",
      "Matriz de covariâncias a partir dos n (1000) valores correlacionados:\n",
      "[[ 3.78174742 -0.14149862]\n",
      " [-0.14149862  2.15946445]]\n",
      "Matriz de covariâncias a partir dos n (10000) valores correlacionados:\n",
      "[[ 3.93514193  0.03249115]\n",
      " [ 0.03249115  2.27493815]]\n"
     ]
    }
   ],
   "source": [
    "#item 1\n",
    "n=100\n",
    "for i in range(0,3):\n",
    "    G = 0\n",
    "    x, y = np.random.multivariate_normal(mean, cov, n).T\n",
    "    print(\"Matriz de covariâncias a partir dos n ({0}) valores correlacionados:\".format(n))\n",
    "    print(np.cov(x,y))\n",
    "    n*=10"
   ]
  },
  {
   "cell_type": "code",
   "execution_count": 19,
   "metadata": {
    "collapsed": false
   },
   "outputs": [
    {
     "name": "stdout",
     "output_type": "stream",
     "text": [
      "Média do Gasto com n= 100 : 39.98729300214558\n",
      "Variância para n= 100: 4.811164945976669 \n",
      "\n",
      "Média do Gasto com n= 1000 : 39.89920645387287\n",
      "Variância para n= 1000: 6.3059127187773285 \n",
      "\n",
      "Média do Gasto com n= 10000 : 39.935509761594105\n",
      "Variância para n= 10000: 6.246627805493202 \n",
      "\n"
     ]
    }
   ],
   "source": [
    "#item 2\n",
    "n=100\n",
    "\n",
    "ListMeanG = list()\n",
    "ListVarG = list()\n",
    "ListaGzao = list()\n",
    "\n",
    "for i in range(0,3):\n",
    "    listG = list()\n",
    "    x, y = np.random.multivariate_normal(mean, cov, n).T\n",
    "    for i in range(len(x)): # Para média:\n",
    "        WTF = x[i] + y[i]\n",
    "        listG.append(WTF)\n",
    "    ListaGzao.append(listG)\n",
    "    MeanG = np.mean(listG)\n",
    "    ListMeanG.append(MeanG)\n",
    "    print(\"Média do Gasto com n= {1} : {0}\".format(MeanG, n))\n",
    "    VarG = 0\n",
    "    for i in range(len(x)): # Para variância:\n",
    "        VarG += ((listG[i] - MeanG)**2)\n",
    "    ListVarG.append(VarG/n)\n",
    "    print (\"Variância para n= {0}: {1} \\n\".format(n,VarG/n))\n",
    "    n*=10"
   ]
  },
  {
   "cell_type": "code",
   "execution_count": 20,
   "metadata": {
    "collapsed": false
   },
   "outputs": [
    {
     "name": "stdout",
     "output_type": "stream",
     "text": [
      "Média: 39.9\n",
      "Variância: 6.25\n"
     ]
    }
   ],
   "source": [
    "#item 3\n",
    "# Media de soma é a soma das médias\n",
    "# Variancia da soma é soma das variâncias + 2*correlação\n",
    "MeanG = muX + muY\n",
    "VarG = varX + varY\n",
    "print(\"Média: {0}\".format(MeanG))\n",
    "print(\"Variância: {0}\".format(VarG))"
   ]
  },
  {
   "cell_type": "code",
   "execution_count": 21,
   "metadata": {
    "collapsed": false
   },
   "outputs": [
    {
     "data": {
      "image/png": "[encoded data removed]",
      "text/plain": [
       "<matplotlib.figure.Figure at 0x1eaeb1bff60>"
      ]
     },
     "metadata": {},
     "output_type": "display_data"
    }
   ],
   "source": [
    "#item 4 parte 1\n",
    "t = np.linspace(20,60,1000)\n",
    "plt.hist(ListaGzao[0],bins=40, normed = 1, color = \"gold\")\n",
    "plt.grid(True)\n",
    "plt.axis([min(ListaGzao[0]),max(ListaGzao[0]),0.00,0.3])\n",
    "plt.title(\"Para N=100\")\n",
    "plt.xlabel(\"Gasto\")\n",
    "plt.ylabel(\"Idas à Santa Efigênia\")\n",
    "plt.plot(t,stats.norm.pdf(t,loc=ListMeanG[0],scale=(ListVarG[0]**(1/2))), color = \"red\")\n",
    "plt.show()"
   ]
  },
  {
   "cell_type": "code",
   "execution_count": 22,
   "metadata": {
    "collapsed": false
   },
   "outputs": [
    {
     "data": {
      "image/png": "[encoded data removed]",
      "text/plain": [
       "<matplotlib.figure.Figure at 0x1eaefcc87f0>"
      ]
     },
     "metadata": {},
     "output_type": "display_data"
    }
   ],
   "source": [
    "#item 4 parte 2\n",
    "t = np.linspace(20,60,1000)\n",
    "plt.hist(ListaGzao[1],bins=30, normed = 1, color = \"lightgreen\")\n",
    "plt.grid(True)\n",
    "plt.axis([min(ListaGzao[1]),max(ListaGzao[1]),0.00,0.17])\n",
    "plt.title(\"Para N=1000\")\n",
    "plt.xlabel(\"Gasto\")\n",
    "plt.ylabel(\"Idas à Santa Efigênia\")\n",
    "plt.plot(t,stats.norm.pdf(t,loc=ListMeanG[1],scale=(ListVarG[1]**(1/2))), color = \"red\")\n",
    "plt.show()"
   ]
  },
  {
   "cell_type": "code",
   "execution_count": 23,
   "metadata": {
    "collapsed": false
   },
   "outputs": [
    {
     "data": {
      "image/png": "[encoded data removed]",
      "text/plain": [
       "<matplotlib.figure.Figure at 0x1eaefcc4860>"
      ]
     },
     "metadata": {},
     "output_type": "display_data"
    }
   ],
   "source": [
    "#item 4 parte 3\n",
    "t = np.linspace(20,60,1000)\n",
    "plt.hist(listG,bins=30, normed = 1, color = \"lightblue\")\n",
    "plt.grid(True)\n",
    "plt.axis([min(listG),max(listG),0.00,0.17])\n",
    "plt.title(\"Para N=10000\")\n",
    "plt.xlabel(\"Gasto\")\n",
    "plt.ylabel(\"Idas à Santa Efigênia\")\n",
    "plt.plot(t,stats.norm.pdf(t,loc=ListMeanG[2],scale=(ListVarG[2]**(1/2))), color = \"red\")\n",
    "plt.show()"
   ]
  },
  {
   "cell_type": "code",
   "execution_count": null,
   "metadata": {
    "collapsed": true
   },
   "outputs": [],
   "source": []
  }
 ],
 "metadata": {
  "anaconda-cloud": {},
  "kernelspec": {
   "display_name": "Python 3",
   "language": "python",
   "name": "python3"
  },
  "language_info": {
   "codemirror_mode": {
    "name": "ipython",
    "version": 3
   },
   "file_extension": ".py",
   "mimetype": "text/x-python",
   "name": "python",
   "nbconvert_exporter": "python",
   "pygments_lexer": "ipython3",
   "version": "3.5.2"
  }
 },
 "nbformat": 4,
 "nbformat_minor": 0
}
