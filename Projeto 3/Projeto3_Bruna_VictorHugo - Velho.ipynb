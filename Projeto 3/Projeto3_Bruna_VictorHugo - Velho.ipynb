{
 "cells": [
  {
   "cell_type": "markdown",
   "metadata": {},
   "source": [
    "## Projeto 3\n",
    "\n",
    "#### Bruna Kimura e Victor Hugo Leal"
   ]
  },
  {
   "cell_type": "code",
   "execution_count": 24,
   "metadata": {
    "collapsed": false
   },
   "outputs": [
    {
     "name": "stdout",
     "output_type": "stream",
     "text": [
      "Esperamos trabalhar no diretório\n",
      "C:\\Users\\VictorHugo\\Dropbox\\Co-Design de Aplicativos\\CD\n"
     ]
    }
   ],
   "source": [
    "\n",
    "\n",
    "import os\n",
    "import matplotlib.pyplot as plt\n",
    "from mpl_toolkits.mplot3d import Axes3D\n",
    "from matplotlib import cm\n",
    "import pandas as pd\n",
    "import numpy as np\n",
    "\n",
    "import statsmodels.api as sm1 #Usa OLS com X como matriz de planejamento\n",
    "import statsmodels.formula.api as sm  #Usa OLS como no R\n",
    "\n",
    "print('Esperamos trabalhar no diretório')\n",
    "print(os.getcwd())"
   ]
  },
  {
   "cell_type": "code",
   "execution_count": 25,
   "metadata": {
    "collapsed": true
   },
   "outputs": [],
   "source": [
    "dados = pd.read_excel('Dados.xlsx',index_col=0)"
   ]
  },
  {
   "cell_type": "code",
   "execution_count": 26,
   "metadata": {
    "collapsed": false
   },
   "outputs": [
    {
     "data": {
      "text/html": [
       "<div>\n",
       "<table border=\"1\" class=\"dataframe\">\n",
       "  <thead>\n",
       "    <tr style=\"text-align: right;\">\n",
       "      <th></th>\n",
       "      <th>HDI</th>\n",
       "      <th>UnderFiveMortality</th>\n",
       "      <th>TotalFertilityRate</th>\n",
       "    </tr>\n",
       "    <tr>\n",
       "      <th>Pais</th>\n",
       "      <th></th>\n",
       "      <th></th>\n",
       "      <th></th>\n",
       "    </tr>\n",
       "  </thead>\n",
       "  <tbody>\n",
       "    <tr>\n",
       "      <th>Abkhazia</th>\n",
       "      <td>NaN</td>\n",
       "      <td>NaN</td>\n",
       "      <td>NaN</td>\n",
       "    </tr>\n",
       "    <tr>\n",
       "      <th>Afghanistan</th>\n",
       "      <td>0.363</td>\n",
       "      <td>113.2</td>\n",
       "      <td>6.46</td>\n",
       "    </tr>\n",
       "    <tr>\n",
       "      <th>Akrotiri and Dhekelia</th>\n",
       "      <td>NaN</td>\n",
       "      <td>NaN</td>\n",
       "      <td>NaN</td>\n",
       "    </tr>\n",
       "    <tr>\n",
       "      <th>Åland</th>\n",
       "      <td>NaN</td>\n",
       "      <td>NaN</td>\n",
       "      <td>NaN</td>\n",
       "    </tr>\n",
       "    <tr>\n",
       "      <th>South Sudan</th>\n",
       "      <td>NaN</td>\n",
       "      <td>125.7</td>\n",
       "      <td>NaN</td>\n",
       "    </tr>\n",
       "  </tbody>\n",
       "</table>\n",
       "</div>"
      ],
      "text/plain": [
       "                         HDI  UnderFiveMortality  TotalFertilityRate\n",
       "Pais                                                                \n",
       "Abkhazia                 NaN                 NaN                 NaN\n",
       "Afghanistan            0.363               113.2                6.46\n",
       "Akrotiri and Dhekelia    NaN                 NaN                 NaN\n",
       "Åland                    NaN                 NaN                 NaN\n",
       "South Sudan              NaN               125.7                 NaN"
      ]
     },
     "execution_count": 26,
     "metadata": {},
     "output_type": "execute_result"
    }
   ],
   "source": [
    "dados.head()"
   ]
  },
  {
   "cell_type": "code",
   "execution_count": 27,
   "metadata": {
    "collapsed": true
   },
   "outputs": [],
   "source": [
    "#Retirar NaN\n",
    "dados=dados[~np.isnan(dados.HDI)]\n",
    "dados=dados[~np.isnan(dados.UnderFiveMortality)]\n",
    "dados=dados[~np.isnan(dados.TotalFertilityRate)]"
   ]
  },
  {
   "cell_type": "code",
   "execution_count": 28,
   "metadata": {
    "collapsed": false
   },
   "outputs": [
    {
     "data": {
      "text/html": [
       "<div>\n",
       "<table border=\"1\" class=\"dataframe\">\n",
       "  <thead>\n",
       "    <tr style=\"text-align: right;\">\n",
       "      <th></th>\n",
       "      <th>HDI</th>\n",
       "      <th>UnderFiveMortality</th>\n",
       "      <th>TotalFertilityRate</th>\n",
       "    </tr>\n",
       "    <tr>\n",
       "      <th>Pais</th>\n",
       "      <th></th>\n",
       "      <th></th>\n",
       "      <th></th>\n",
       "    </tr>\n",
       "  </thead>\n",
       "  <tbody>\n",
       "    <tr>\n",
       "      <th>Afghanistan</th>\n",
       "      <td>0.363</td>\n",
       "      <td>113.2</td>\n",
       "      <td>6.46</td>\n",
       "    </tr>\n",
       "    <tr>\n",
       "      <th>Albania</th>\n",
       "      <td>0.729</td>\n",
       "      <td>18.7</td>\n",
       "      <td>1.80</td>\n",
       "    </tr>\n",
       "    <tr>\n",
       "      <th>Algeria</th>\n",
       "      <td>0.680</td>\n",
       "      <td>30.7</td>\n",
       "      <td>2.66</td>\n",
       "    </tr>\n",
       "    <tr>\n",
       "      <th>Angola</th>\n",
       "      <td>0.471</td>\n",
       "      <td>196.4</td>\n",
       "      <td>6.52</td>\n",
       "    </tr>\n",
       "    <tr>\n",
       "      <th>Argentina</th>\n",
       "      <td>0.780</td>\n",
       "      <td>15.8</td>\n",
       "      <td>2.25</td>\n",
       "    </tr>\n",
       "  </tbody>\n",
       "</table>\n",
       "</div>"
      ],
      "text/plain": [
       "               HDI  UnderFiveMortality  TotalFertilityRate\n",
       "Pais                                                      \n",
       "Afghanistan  0.363               113.2                6.46\n",
       "Albania      0.729                18.7                1.80\n",
       "Algeria      0.680                30.7                2.66\n",
       "Angola       0.471               196.4                6.52\n",
       "Argentina    0.780                15.8                2.25"
      ]
     },
     "execution_count": 28,
     "metadata": {},
     "output_type": "execute_result"
    }
   ],
   "source": [
    "dados.head()"
   ]
  },
  {
   "cell_type": "markdown",
   "metadata": {},
   "source": [
    "### Gráficos"
   ]
  },
  {
   "cell_type": "code",
   "execution_count": 29,
   "metadata": {
    "collapsed": false
   },
   "outputs": [
    {
     "data": {
      "text/plain": [
       "<matplotlib.text.Text at 0x1ebec0dbf60>"
      ]
     },
     "execution_count": 29,
     "metadata": {},
     "output_type": "execute_result"
    }
   ],
   "source": [
    "f, ax = plt.subplots(1,2,figsize=(16,8))\n",
    "ax[0].scatter(dados.HDI, dados.TotalFertilityRate, alpha=0.7)  # Plot the raw data\n",
    "ax[0].set_xlabel(\"IDH\")\n",
    "ax[0].set_ylabel(\"Taxa de Fertilidade\")\n",
    "\n",
    "ax[1].scatter(dados.UnderFiveMortality, dados.TotalFertilityRate, alpha=0.7)  # Plot the raw data\n",
    "ax[1].set_xlabel(\"Mortalidade infantil\")\n",
    "ax[1].set_ylabel(\"Taxa de Fertilidade\")\n",
    "\n"
   ]
  },
  {
   "cell_type": "markdown",
   "metadata": {},
   "source": [
    "#### Com escala logarítimica\n"
   ]
  },
  {
   "cell_type": "code",
   "execution_count": 30,
   "metadata": {
    "collapsed": false
   },
   "outputs": [],
   "source": [
    "f, ax = plt.subplots(1,2,figsize=(16,8))\n",
    "\n",
    "\n",
    "ax[0].scatter(dados.HDI, dados.TotalFertilityRate, alpha=0.7)  # Plot the raw data\n",
    "ax[0].set_xlabel(\"IDH\")\n",
    "ax[0].set_ylabel(\"Taxa de Fertilidade\")\n",
    "ax[0].set_yscale('log')\n",
    "\n",
    "ax[1].scatter(dados.UnderFiveMortality, dados.TotalFertilityRate, alpha=0.7)  # Plot the raw data\n",
    "ax[1].set_xlabel(\"Mortalidade infantil\")\n",
    "ax[1].set_ylabel(\"Taxa de Fertilidade\")\n",
    "ax[1].set_yscale('log')\n",
    "ax[1].set_xscale('log')\n",
    "\n",
    "\n"
   ]
  },
  {
   "cell_type": "markdown",
   "metadata": {
    "collapsed": true
   },
   "source": [
    "### Gráfico em 3D\n"
   ]
  },
  {
   "cell_type": "code",
   "execution_count": 31,
   "metadata": {
    "collapsed": false
   },
   "outputs": [],
   "source": [
    "from mpl_toolkits.mplot3d import Axes3D\n",
    "import matplotlib.pyplot as plt\n",
    "import numpy as np\n",
    "\n",
    "# Constantes:\n",
    "# n_angles - numero de ângulos.\n",
    "# n_radii(numero de raios)\n",
    "n_angles = 72\n",
    "n_radii = 4\n",
    "\n",
    "# linspace() - Cria um vetor de raios.\n",
    "# o vetor vai de 0.125 até 1.0 e é dividido por **n_radii** (numero de raios).\n",
    "radii = np.linspace(0.125, 1.0, n_radii)\n",
    "\n",
    "# Criando os ângulos.\n",
    "# O intervalo vai de 0 a 2 e é multiplicado por pi.\n",
    "# endpoint=True - Significa que o numero final do intervalo entra no calculo.\n",
    "angles = np.linspace(0, 2 * np.pi, n_angles, endpoint=True)\n",
    "\n",
    "# Criando a malha\n",
    "# Para cada raio repetiremos o vetor dos ângulos.\n",
    "angles = np.repeat(angles[..., np.newaxis], n_radii, axis=1)\n",
    "\n",
    "# Convertendo os pontos de coordenadas polares (raio e ângulo)\n",
    "# para coordenadas cartesianas (x e Y).\n",
    "# Através do append estamos adicionado zero como ponto inicial.\n",
    "x = np.append(0, (radii * np.cos(angles)).flatten())\n",
    "y = np.append(0, (radii * np.sin(angles)).flatten())\n",
    "\n",
    "# Aplicando os pontos criados nos pontos da malha.\n",
    "z = np.sin(-x * (y ** 2)) + np.cos((x ** 2) * -y)\n",
    "\n",
    "# Criando uma figura.\n",
    "fig = plt.figure()\n",
    "\n",
    "# Indicando que a projeção da figura será 3D.\n",
    "ax = fig.gca(projection='3d')\n",
    "\n",
    "# plot_trisurf() - Gera o gráfico (x, y, z).\n",
    "# cmap - Gera a cor da malha que é exibida no gráfico.\n",
    "# linewidth - Comprimento da linha, este valor vai de 0 a 1.\n",
    "ax.plot_trisurf(x, y, z, cmap='Greens', linewidth=0.1)\n",
    "\n",
    "# Exibe o gráfico.\n",
    "plt.show()\n"
   ]
  },
  {
   "cell_type": "code",
   "execution_count": 32,
   "metadata": {
    "collapsed": true
   },
   "outputs": [],
   "source": [
    "dados['newUFM'] = np.log(dados['UnderFiveMortality'])"
   ]
  },
  {
   "cell_type": "code",
   "execution_count": 33,
   "metadata": {
    "collapsed": false
   },
   "outputs": [
    {
     "name": "stdout",
     "output_type": "stream",
     "text": [
      "                                OLS Regression Results                                \n",
      "======================================================================================\n",
      "Dep. Variable:     np.log(TotalFertilityRate)   R-squared:                       0.761\n",
      "Model:                                    OLS   Adj. R-squared:                  0.758\n",
      "Method:                         Least Squares   F-statistic:                     268.7\n",
      "Date:                        Thu, 01 Dec 2016   Prob (F-statistic):           3.29e-53\n",
      "Time:                                19:05:09   Log-Likelihood:                -3.6251\n",
      "No. Observations:                         172   AIC:                             13.25\n",
      "Df Residuals:                             169   BIC:                             22.69\n",
      "Df Model:                                   2                                         \n",
      "Covariance Type:                    nonrobust                                         \n",
      "==============================================================================\n",
      "                 coef    std err          t      P>|t|      [95.0% Conf. Int.]\n",
      "------------------------------------------------------------------------------\n",
      "Intercept      0.9453      0.361      2.621      0.010         0.233     1.657\n",
      "HDI           -1.0455      0.322     -3.245      0.001        -1.682    -0.409\n",
      "newUFM         0.2226      0.049      4.527      0.000         0.126     0.320\n",
      "==============================================================================\n",
      "Omnibus:                        0.663   Durbin-Watson:                   2.092\n",
      "Prob(Omnibus):                  0.718   Jarque-Bera (JB):                0.792\n",
      "Skew:                          -0.124   Prob(JB):                        0.673\n",
      "Kurtosis:                       2.778   Cond. No.                         91.0\n",
      "==============================================================================\n",
      "\n",
      "Warnings:\n",
      "[1] Standard Errors assume that the covariance matrix of the errors is correctly specified.\n"
     ]
    }
   ],
   "source": [
    "model = sm.ols(formula='np.log(TotalFertilityRate) ~ HDI + newUFM', data = dados) # Describe Model\n",
    "results = model.fit() # Fit model\n",
    "print (results.summary())"
   ]
  }
 ],
 "metadata": {
  "kernelspec": {
   "display_name": "Python 3",
   "language": "python",
   "name": "python3"
  },
  "language_info": {
   "codemirror_mode": {
    "name": "ipython",
    "version": 3
   },
   "file_extension": ".py",
   "mimetype": "text/x-python",
   "name": "python",
   "nbconvert_exporter": "python",
   "pygments_lexer": "ipython3",
   "version": "3.5.2"
  }
 },
 "nbformat": 4,
 "nbformat_minor": 0
}
